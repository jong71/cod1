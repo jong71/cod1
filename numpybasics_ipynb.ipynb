{
  "nbformat": 4,
  "nbformat_minor": 0,
  "metadata": {
    "colab": {
      "provenance": [],
      "authorship_tag": "ABX9TyNM+wHBBnBr4lcB4Oq7jl/Y",
      "include_colab_link": true
    },
    "kernelspec": {
      "name": "python3",
      "display_name": "Python 3"
    },
    "language_info": {
      "name": "python"
    }
  },
  "cells": [
    {
      "cell_type": "markdown",
      "metadata": {
        "id": "view-in-github",
        "colab_type": "text"
      },
      "source": [
        "<a href=\"https://colab.research.google.com/github/jong71/cod1/blob/main/numpybasics_ipynb.ipynb\" target=\"_parent\"><img src=\"https://colab.research.google.com/assets/colab-badge.svg\" alt=\"Open In Colab\"/></a>"
      ]
    },
    {
      "cell_type": "code",
      "source": [
        "# numpy it is a library about python list (but with more functionalites)\n",
        "# Limitation of a normal python list--> add,remove, update, check lenght\n",
        "# we can solve this issues with Numpy Array\n",
        "# \"import\" keyword --> use a library\n",
        "# \"as\" keyword --> \"alias\"(a shortcut variable)\n",
        "import numpy as np"
      ],
      "metadata": {
        "id": "RZJT2WneA1Cx"
      },
      "execution_count": null,
      "outputs": []
    },
    {
      "cell_type": "markdown",
      "source": [
        "#1.1 numpy arrays\n",
        "1 .array()\n",
        "2.List item()\n",
        "3. arange()\n",
        "4. zero and ones()\n",
        "5. linspace\n"
      ],
      "metadata": {
        "id": "jHr-It6VD7eH"
      }
    },
    {
      "cell_type": "code",
      "execution_count": null,
      "metadata": {
        "id": "yq5ONeO27yUj",
        "colab": {
          "base_uri": "https://localhost:8080/"
        },
        "outputId": "02059cda-eddf-4cd5-fefc-38d0611eeb31"
      },
      "outputs": [
        {
          "output_type": "stream",
          "name": "stdout",
          "text": [
            "[1, 22, 45]\n",
            "<class 'list'>\n"
          ]
        }
      ],
      "source": [
        "# 1. Array()\n",
        "# array() transforsm a normal list into numpy array\n",
        "list1  = [1,22,45]\n",
        "print(list1)\n",
        "print(type(list1))"
      ]
    },
    {
      "cell_type": "code",
      "source": [
        "array1 = np.array(list1)\n",
        "print(array1)\n",
        "print(type(array1))"
      ],
      "metadata": {
        "colab": {
          "base_uri": "https://localhost:8080/"
        },
        "id": "BBmA99d-95nq",
        "outputId": "f8d60dcf-457b-4848-dbba-0c4b6bf6f8b8"
      },
      "execution_count": null,
      "outputs": [
        {
          "output_type": "stream",
          "name": "stdout",
          "text": [
            "[ 1 22 45]\n",
            "<class 'numpy.ndarray'>\n"
          ]
        }
      ]
    },
    {
      "cell_type": "code",
      "source": [
        "# Arange()\n",
        "# 2 input --> star, stop(exluding stop)\n",
        "# [start,stop)\n",
        "# [0,10)\n",
        "# [] inclusive\n",
        "# () exlusive\n",
        "arr2 = np.arange(0,10)\n",
        "print(arr2 )\n",
        "arr3 = np.arange(0,100,5)\n",
        "print(arr3)\n"
      ],
      "metadata": {
        "colab": {
          "base_uri": "https://localhost:8080/"
        },
        "id": "saITJSFsFgld",
        "outputId": "89c95e81-19e6-457d-e3bd-8a13ec02619b"
      },
      "execution_count": null,
      "outputs": [
        {
          "output_type": "stream",
          "name": "stdout",
          "text": [
            "[0 1 2 3 4 5 6 7 8 9]\n",
            "[ 0  5 10 15 20 25 30 35 40 45 50 55 60 65 70 75 80 85 90 95]\n"
          ]
        }
      ]
    },
    {
      "cell_type": "code",
      "source": [
        "# Zeros and ones\n",
        "arr8 = np.zeros(10)\n",
        "print(arr8)\n",
        "arr9 = np.ones(10)\n",
        "arr10 = np.ones((2,5)) #2 rows and 7 columns\n",
        "print(arr9)\n",
        "print(arr10)\n"
      ],
      "metadata": {
        "colab": {
          "base_uri": "https://localhost:8080/"
        },
        "id": "hwd5XIcDJR2h",
        "outputId": "79cbe6fd-2b20-4885-ad88-98866c391a85"
      },
      "execution_count": null,
      "outputs": [
        {
          "output_type": "stream",
          "name": "stdout",
          "text": [
            "[0. 0. 0. 0. 0. 0. 0. 0. 0. 0.]\n",
            "[1. 1. 1. 1. 1. 1. 1. 1. 1. 1.]\n",
            "[[1. 1. 1. 1. 1.]\n",
            " [1. 1. 1. 1. 1.]]\n"
          ]
        }
      ]
    },
    {
      "cell_type": "code",
      "source": [
        "# linspace - leanear spacing\n",
        "#[start, stop]\n",
        "# 1st input = \"input\"\n",
        "#2nd input = \"stop\"INCLUDED\n",
        "# 3rd input = \"how many evenly spaced out numbers\"\n",
        "arr11 = np.linspace(0,5,100)\n",
        "print(arr11)"
      ],
      "metadata": {
        "colab": {
          "base_uri": "https://localhost:8080/"
        },
        "id": "Vf8bDu2UXyrL",
        "outputId": "60997d0d-ffea-4b0f-e8a5-29a79aada73d"
      },
      "execution_count": null,
      "outputs": [
        {
          "output_type": "stream",
          "name": "stdout",
          "text": [
            "[0.         0.05050505 0.1010101  0.15151515 0.2020202  0.25252525\n",
            " 0.3030303  0.35353535 0.4040404  0.45454545 0.50505051 0.55555556\n",
            " 0.60606061 0.65656566 0.70707071 0.75757576 0.80808081 0.85858586\n",
            " 0.90909091 0.95959596 1.01010101 1.06060606 1.11111111 1.16161616\n",
            " 1.21212121 1.26262626 1.31313131 1.36363636 1.41414141 1.46464646\n",
            " 1.51515152 1.56565657 1.61616162 1.66666667 1.71717172 1.76767677\n",
            " 1.81818182 1.86868687 1.91919192 1.96969697 2.02020202 2.07070707\n",
            " 2.12121212 2.17171717 2.22222222 2.27272727 2.32323232 2.37373737\n",
            " 2.42424242 2.47474747 2.52525253 2.57575758 2.62626263 2.67676768\n",
            " 2.72727273 2.77777778 2.82828283 2.87878788 2.92929293 2.97979798\n",
            " 3.03030303 3.08080808 3.13131313 3.18181818 3.23232323 3.28282828\n",
            " 3.33333333 3.38383838 3.43434343 3.48484848 3.53535354 3.58585859\n",
            " 3.63636364 3.68686869 3.73737374 3.78787879 3.83838384 3.88888889\n",
            " 3.93939394 3.98989899 4.04040404 4.09090909 4.14141414 4.19191919\n",
            " 4.24242424 4.29292929 4.34343434 4.39393939 4.44444444 4.49494949\n",
            " 4.54545455 4.5959596  4.64646465 4.6969697  4.74747475 4.7979798\n",
            " 4.84848485 4.8989899  4.94949495 5.        ]\n"
          ]
        }
      ]
    },
    {
      "cell_type": "code",
      "source": [
        "#create a simple array\n",
        "# rand()--> create a random number for [0-1)\n",
        "# rand()--> create a random number from [0-100)\n",
        "arr1 = np.random.randint(10,100,33)\n",
        "print(arr1.reshape(3,11))\n",
        "\n",
        "print('---')\n",
        "print(arr1.reshape(11,3).shape)\n",
        "\n",
        "print('---')\n",
        "\n",
        "\n"
      ],
      "metadata": {
        "colab": {
          "base_uri": "https://localhost:8080/"
        },
        "id": "4e4ssOD_2vC-",
        "outputId": "ce4b9237-598d-4aaa-d557-1c5e488f5e4f"
      },
      "execution_count": null,
      "outputs": [
        {
          "output_type": "stream",
          "name": "stdout",
          "text": [
            "[[44 90 75 85 17 47 98 96 11 36 25]\n",
            " [84 44 66 20 43 63 72 29 65 80 18]\n",
            " [90 21 53 99 97 88 33 47 61 42 81]]\n",
            "---\n",
            "(11, 3)\n",
            "---\n"
          ]
        }
      ]
    },
    {
      "cell_type": "markdown",
      "source": [
        "Bracket indexing and selection"
      ],
      "metadata": {
        "id": "5jw3tGNy4Boj"
      }
    },
    {
      "cell_type": "code",
      "source": [
        "print(arr[0]) #indexing one element in the array\n",
        "print(arr[-1])"
      ],
      "metadata": {
        "colab": {
          "base_uri": "https://localhost:8080/"
        },
        "id": "r7YCCw5G4BRy",
        "outputId": "59e293ee-2da2-4433-b580-7fc94be26210"
      },
      "execution_count": null,
      "outputs": [
        {
          "output_type": "stream",
          "name": "stdout",
          "text": [
            "0.5917896654555638\n",
            "0.05210114720379344\n"
          ]
        }
      ]
    },
    {
      "cell_type": "code",
      "source": [
        "#Slicing\n",
        "print(arr[1:6])"
      ],
      "metadata": {
        "colab": {
          "base_uri": "https://localhost:8080/"
        },
        "id": "SxqiwglG4yhH",
        "outputId": "4a637aa5-befe-427a-abdf-f1dc6a123da3"
      },
      "execution_count": null,
      "outputs": [
        {
          "output_type": "stream",
          "name": "stdout",
          "text": [
            "[0.76300509 0.10061511 0.05933306 0.34043325 0.27052214]\n"
          ]
        }
      ]
    },
    {
      "cell_type": "markdown",
      "source": [
        "2D Array indexing"
      ],
      "metadata": {
        "id": "DBCsZdLl5pua"
      }
    },
    {
      "cell_type": "code",
      "source": [
        "#normal python list\n",
        "\n",
        "# 1st number - row\n",
        "# 2nd number - column\n",
        "\n",
        "list_1d = [1,2,3,4,5,6,7,8,9]\n",
        "list_2d = [[1,2,3],\n",
        "           [4,5,6],\n",
        "           [7,8,9]]\n",
        "\n",
        "print(list_2d[1])\n",
        "print(list_2d[1][1]) # row 2 , column 2 --> row index 1, column index 1\n",
        "\n",
        "print('---')\n",
        "print(list_2d[-1])\n",
        "print(list_2d[-1][-1])"
      ],
      "metadata": {
        "colab": {
          "base_uri": "https://localhost:8080/"
        },
        "id": "S-BYsndP5tIJ",
        "outputId": "a9ffbf3b-f15a-42c7-8139-b720a73eac8a"
      },
      "execution_count": null,
      "outputs": [
        {
          "output_type": "stream",
          "name": "stdout",
          "text": [
            "[4, 5, 6]\n",
            "5\n",
            "---\n",
            "[7, 8, 9]\n",
            "9\n"
          ]
        }
      ]
    },
    {
      "cell_type": "code",
      "source": [
        "list_2d = [[10,20,30],[40,50,60],[70,80,90]] #let's convert it into a numpy array\n",
        "arr_2d = np.array(list_2d)\n",
        "print(list_2d)\n",
        "print(arr_2d)"
      ],
      "metadata": {
        "colab": {
          "base_uri": "https://localhost:8080/"
        },
        "id": "XHn_KQAA5-35",
        "outputId": "4fddc8ae-01a6-4519-8c09-14d1eb079876"
      },
      "execution_count": null,
      "outputs": [
        {
          "output_type": "stream",
          "name": "stdout",
          "text": [
            "[[10, 20, 30], [40, 50, 60], [70, 80, 90]]\n",
            "[[10 20 30]\n",
            " [40 50 60]\n",
            " [70 80 90]]\n"
          ]
        }
      ]
    },
    {
      "cell_type": "code",
      "source": [
        "# in numpy in order to index or slice an array u can use [x,y] instead [x][y]\n",
        "# 2. [ , ] notation\n",
        "print(arr_2d[0])\n",
        "print(arr_2d[2,0])\n",
        "print(arr_2d[2,2])\n",
        "print(arr_2d[2,-1])"
      ],
      "metadata": {
        "colab": {
          "base_uri": "https://localhost:8080/"
        },
        "id": "G60xGlNJ6xGe",
        "outputId": "1933a2fb-07f3-450b-a14c-1c6fc3223d32"
      },
      "execution_count": null,
      "outputs": [
        {
          "output_type": "stream",
          "name": "stdout",
          "text": [
            "[10 20 30]\n",
            "70\n",
            "90\n",
            "90\n"
          ]
        }
      ]
    },
    {
      "cell_type": "markdown",
      "source": [
        "2D ARRAY SLICING"
      ],
      "metadata": {
        "id": "FTpFTof88LC6"
      }
    },
    {
      "cell_type": "code",
      "source": [
        "list1 = [[10,58,56],\n",
        "         [55,66,90],\n",
        "         [89,48,70]]\n",
        "arr2 = np.array(list1)\n",
        "print(arr2)"
      ],
      "metadata": {
        "colab": {
          "base_uri": "https://localhost:8080/"
        },
        "id": "TDf8VOLX8Od-",
        "outputId": "53342e46-8e89-4adf-c1c3-3bb2f3956197"
      },
      "execution_count": null,
      "outputs": [
        {
          "output_type": "stream",
          "name": "stdout",
          "text": [
            "[[10 58 56]\n",
            " [55 66 90]\n",
            " [89 48 70]]\n"
          ]
        }
      ]
    },
    {
      "cell_type": "code",
      "source": [
        "print(list1[1:])# normal"
      ],
      "metadata": {
        "colab": {
          "base_uri": "https://localhost:8080/"
        },
        "id": "Qq4WmlvV9DfN",
        "outputId": "7be06b59-807c-4113-ac68-14ed35e95fd2"
      },
      "execution_count": null,
      "outputs": [
        {
          "output_type": "stream",
          "name": "stdout",
          "text": [
            "[[55, 66, 90], [89, 48, 70]]\n"
          ]
        }
      ]
    },
    {
      "cell_type": "code",
      "source": [
        "print(arr2[0:2])\n",
        "print('----')\n",
        "print(arr2[1:])"
      ],
      "metadata": {
        "colab": {
          "base_uri": "https://localhost:8080/"
        },
        "id": "4POf9M0B9-ut",
        "outputId": "ca463d4a-298c-410d-ee25-79b3301a0ec7"
      },
      "execution_count": null,
      "outputs": [
        {
          "output_type": "stream",
          "name": "stdout",
          "text": [
            "[[10 58 56]\n",
            " [55 66 90]]\n",
            "----\n",
            "[[55 66 90]\n",
            " [89 48 70]]\n"
          ]
        }
      ]
    },
    {
      "cell_type": "code",
      "source": [
        "print(arr2)"
      ],
      "metadata": {
        "colab": {
          "base_uri": "https://localhost:8080/"
        },
        "id": "R6g3Fryh-5mc",
        "outputId": "935a0322-a6d5-4e16-b503-d67a96c086fc"
      },
      "execution_count": null,
      "outputs": [
        {
          "output_type": "stream",
          "name": "stdout",
          "text": [
            "[[10 58 56]\n",
            " [55 66 90]\n",
            " [89 48 70]]\n"
          ]
        }
      ]
    },
    {
      "cell_type": "code",
      "source": [
        "# example 2\n",
        "print(arr2[1:3,1:3])\n",
        "print('---')\n",
        "print(arr2[1:,1:]) # shortcut"
      ],
      "metadata": {
        "colab": {
          "base_uri": "https://localhost:8080/"
        },
        "id": "X1b4xb60-VHD",
        "outputId": "a881ff8c-ca05-4c33-c967-8dcc5fdf0e5a"
      },
      "execution_count": null,
      "outputs": [
        {
          "output_type": "stream",
          "name": "stdout",
          "text": [
            "[[66 90]\n",
            " [48 70]]\n",
            "---\n",
            "[[66 90]\n",
            " [48 70]]\n"
          ]
        }
      ]
    },
    {
      "cell_type": "code",
      "source": [
        "print(arr2)"
      ],
      "metadata": {
        "colab": {
          "base_uri": "https://localhost:8080/"
        },
        "id": "oX4LO7eV-7Xh",
        "outputId": "f9ac51b7-c45c-4e75-d502-1796a6a4a371"
      },
      "execution_count": null,
      "outputs": [
        {
          "output_type": "stream",
          "name": "stdout",
          "text": [
            "[[10 58 56]\n",
            " [55 66 90]\n",
            " [89 48 70]]\n"
          ]
        }
      ]
    },
    {
      "cell_type": "code",
      "source": [
        "print(arr2[0:3,1].reshape(3,1))"
      ],
      "metadata": {
        "colab": {
          "base_uri": "https://localhost:8080/"
        },
        "id": "4Iytf7DV_rHZ",
        "outputId": "87611064-5bb9-495c-8809-d6132de846c5"
      },
      "execution_count": null,
      "outputs": [
        {
          "output_type": "stream",
          "name": "stdout",
          "text": [
            "[[58]\n",
            " [66]\n",
            " [48]]\n"
          ]
        }
      ]
    },
    {
      "cell_type": "code",
      "source": [
        "print(arr2[0:3,:1])"
      ],
      "metadata": {
        "colab": {
          "base_uri": "https://localhost:8080/"
        },
        "id": "2b3J7fRvEkLk",
        "outputId": "688f3f10-1399-4bd8-9496-133044af0bd8"
      },
      "execution_count": null,
      "outputs": [
        {
          "output_type": "stream",
          "name": "stdout",
          "text": [
            "[[10]\n",
            " [55]\n",
            " [89]]\n"
          ]
        }
      ]
    },
    {
      "cell_type": "code",
      "source": [
        "arr20 = np.array([33,444,898,666,777,884,514])\n",
        "print(arr20)\n",
        "print(arr20[2:5])"
      ],
      "metadata": {
        "colab": {
          "base_uri": "https://localhost:8080/"
        },
        "id": "7bZNtbvTMs8o",
        "outputId": "07e0f4d3-1c2b-4d81-99ee-16c1803e5feb"
      },
      "execution_count": null,
      "outputs": [
        {
          "output_type": "stream",
          "name": "stdout",
          "text": [
            "[ 33 444 898 666 777 884 514]\n",
            "[898 666 777]\n"
          ]
        }
      ]
    },
    {
      "cell_type": "markdown",
      "source": [],
      "metadata": {
        "id": "g9-cfizmMseM"
      }
    }
  ]
}